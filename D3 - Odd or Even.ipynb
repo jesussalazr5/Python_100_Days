{
 "cells": [
  {
   "cell_type": "code",
   "execution_count": 6,
   "metadata": {},
   "outputs": [
    {
     "name": "stdout",
     "output_type": "stream",
     "text": [
      "Your Number 12345672 is Even\n"
     ]
    }
   ],
   "source": [
    "number = int(input('Please input a number'))\n",
    "test = number % 2\n",
    "\n",
    "if test == 0:\n",
    "    print(f'Your Number {number} is Even.')\n",
    "else:\n",
    "    print(f'Your Number {number} is Odd.')"
   ]
  },
  {
   "cell_type": "code",
   "execution_count": null,
   "metadata": {},
   "outputs": [],
   "source": []
  }
 ],
 "metadata": {
  "kernelspec": {
   "display_name": "Python 3",
   "language": "python",
   "name": "python3"
  },
  "language_info": {
   "codemirror_mode": {
    "name": "ipython",
    "version": 3
   },
   "file_extension": ".py",
   "mimetype": "text/x-python",
   "name": "python",
   "nbconvert_exporter": "python",
   "pygments_lexer": "ipython3",
   "version": "3.11.3"
  },
  "orig_nbformat": 4
 },
 "nbformat": 4,
 "nbformat_minor": 2
}
