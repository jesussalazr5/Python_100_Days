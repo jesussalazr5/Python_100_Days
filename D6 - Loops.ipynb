{
 "cells": [
  {
   "cell_type": "code",
   "execution_count": null,
   "metadata": {},
   "outputs": [],
   "source": [
    "def turn_right():\n",
    "    turn_left()\n",
    "    turn_left()\n",
    "    turn_left()\n",
    "    \n",
    "def jump():\n",
    "    turn_left()\n",
    "    while right_is_clear() == False:\n",
    "        move()\n",
    "    turn_right()\n",
    "\n",
    "def down():\n",
    "    move()\n",
    "    turn_right()\n",
    "    while front_is_clear() == True:\n",
    "        move()\n",
    "    turn_left()\n",
    "    \n",
    "while at_goal() == False:\n",
    "    \n",
    "    if front_is_clear() == True and right_is_clear() == True:\n",
    "        down()\n",
    "    elif front_is_clear() == True and right_is_clear() == False:\n",
    "        move()\n",
    "    else:\n",
    "        jump()\n",
    "\n",
    "    \n",
    "\n",
    "\n",
    "    \n",
    "   \n",
    "\n",
    "\n"
   ]
  }
 ],
 "metadata": {
  "language_info": {
   "name": "python"
  },
  "orig_nbformat": 4
 },
 "nbformat": 4,
 "nbformat_minor": 2
}
