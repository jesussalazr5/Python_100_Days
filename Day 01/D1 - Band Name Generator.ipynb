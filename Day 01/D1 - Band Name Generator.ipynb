{
 "cells": [
  {
   "cell_type": "code",
   "execution_count": 11,
   "metadata": {},
   "outputs": [
    {
     "name": "stdout",
     "output_type": "stream",
     "text": [
      "Welcome to the Band Name Generator!\n",
      "Your band name could be Jesus Salazar\n"
     ]
    }
   ],
   "source": [
    "#1. Create a greeting for your program.\n",
    "print('Welcome to the Band Name Generator!')\n",
    "#2. Ask the user for the city that they grew up in.\n",
    "city = input('What´s the name of the city you grew up in?\\n')\n",
    "#3. Ask the user for the name of a pet.\n",
    "pet = input('What´s your pet´s name?\\n')\n",
    "#4. Combine the name of their city and pet and show them their band name.\n",
    "print(f'Your band name could be {city} {pet}')\n",
    "#5. Make sure the input cursor shows on a new line:\n"
   ]
  },
  {
   "cell_type": "code",
   "execution_count": 1,
   "metadata": {},
   "outputs": [
    {
     "name": "stdout",
     "output_type": "stream",
     "text": [
      "o\n"
     ]
    }
   ],
   "source": []
  },
  {
   "cell_type": "code",
   "execution_count": null,
   "metadata": {},
   "outputs": [],
   "source": []
  }
 ],
 "metadata": {
  "kernelspec": {
   "display_name": "Python 3",
   "language": "python",
   "name": "python3"
  },
  "language_info": {
   "codemirror_mode": {
    "name": "ipython",
    "version": 3
   },
   "file_extension": ".py",
   "mimetype": "text/x-python",
   "name": "python",
   "nbconvert_exporter": "python",
   "pygments_lexer": "ipython3",
   "version": "3.11.3"
  },
  "orig_nbformat": 4
 },
 "nbformat": 4,
 "nbformat_minor": 2
}
