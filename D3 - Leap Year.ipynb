{
 "cells": [
  {
   "cell_type": "code",
   "execution_count": 36,
   "metadata": {},
   "outputs": [
    {
     "name": "stdout",
     "output_type": "stream",
     "text": [
      "Leap year.\n"
     ]
    }
   ],
   "source": [
    "year = int(input('Which year do you want to check? '))\n",
    "a = year % 4\n",
    "b = year % 100\n",
    "c = year % 400\n",
    "leap = True\n",
    "\n",
    "if a == 0:\n",
    "    leap = True\n",
    "    if b != 0:\n",
    "        leap = True\n",
    "    else:\n",
    "        if c == 0:\n",
    "            leap = True\n",
    "        else:\n",
    "            leap = False\n",
    "else:\n",
    "    leap = False\n",
    "\n",
    "if leap == True:\n",
    "    print('Leap year.')\n",
    "\n",
    "else:\n",
    "    print('Not leap year.')\n"
   ]
  },
  {
   "cell_type": "code",
   "execution_count": 37,
   "metadata": {},
   "outputs": [
    {
     "name": "stdout",
     "output_type": "stream",
     "text": [
      "Leap year.\n"
     ]
    }
   ],
   "source": [
    "year = int(input('Which year do you want to check? '))\n",
    "\n",
    "leap = (year % 4 == 0 and year % 100 != 0) or (year % 400 == 0)\n",
    "\n",
    "if leap:\n",
    "    print('Leap year.')\n",
    "else:\n",
    "    print('Not leap year.')"
   ]
  }
 ],
 "metadata": {
  "kernelspec": {
   "display_name": "Python 3",
   "language": "python",
   "name": "python3"
  },
  "language_info": {
   "codemirror_mode": {
    "name": "ipython",
    "version": 3
   },
   "file_extension": ".py",
   "mimetype": "text/x-python",
   "name": "python",
   "nbconvert_exporter": "python",
   "pygments_lexer": "ipython3",
   "version": "3.11.3"
  },
  "orig_nbformat": 4
 },
 "nbformat": 4,
 "nbformat_minor": 2
}
