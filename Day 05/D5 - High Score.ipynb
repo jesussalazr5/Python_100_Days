{
 "cells": [
  {
   "cell_type": "code",
   "execution_count": 30,
   "metadata": {},
   "outputs": [
    {
     "name": "stdout",
     "output_type": "stream",
     "text": [
      "The highest score in the class is: 91\n"
     ]
    }
   ],
   "source": [
    "student_scores = [78, 65, 89, 86, 55, 91, 64, 89]\n",
    "student_scores.sort()\n",
    "\n",
    "print(f'The highest score in the class is: {student_scores[-1]}')"
   ]
  },
  {
   "cell_type": "code",
   "execution_count": 31,
   "metadata": {},
   "outputs": [
    {
     "name": "stdout",
     "output_type": "stream",
     "text": [
      "The highest score in te class is 91\n"
     ]
    }
   ],
   "source": [
    "hight_value = 0\n",
    "for score in student_scores:\n",
    "    if score > hight_value:\n",
    "        hight_value = score\n",
    "print(f'The highest score in te class is {hight_value}')\n"
   ]
  }
 ],
 "metadata": {
  "kernelspec": {
   "display_name": "Python 3",
   "language": "python",
   "name": "python3"
  },
  "language_info": {
   "codemirror_mode": {
    "name": "ipython",
    "version": 3
   },
   "file_extension": ".py",
   "mimetype": "text/x-python",
   "name": "python",
   "nbconvert_exporter": "python",
   "pygments_lexer": "ipython3",
   "version": "3.11.3"
  },
  "orig_nbformat": 4
 },
 "nbformat": 4,
 "nbformat_minor": 2
}
