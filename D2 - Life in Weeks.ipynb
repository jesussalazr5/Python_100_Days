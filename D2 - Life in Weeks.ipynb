{
 "cells": [
  {
   "cell_type": "code",
   "execution_count": 1,
   "metadata": {},
   "outputs": [
    {
     "name": "stdout",
     "output_type": "stream",
     "text": [
      "You have 23360 days, 3328 weeks, and 768 months left.\n"
     ]
    }
   ],
   "source": [
    "months_in_one_year = 12\n",
    "weeks_in_one_year = 52\n",
    "days_in_one_year = 365\n",
    "\n",
    "max_year = 90\n",
    "\n",
    "age = int(input('What is your age?'))\n",
    "year_life = max_year - age\n",
    "month_life = year_life * months_in_one_year\n",
    "week_life = year_life * weeks_in_one_year\n",
    "day_life = year_life * days_in_one_year\n",
    "\n",
    "print(f'You have {day_life} days, {week_life} weeks, and {month_life} months left.')"
   ]
  },
  {
   "cell_type": "code",
   "execution_count": null,
   "metadata": {},
   "outputs": [],
   "source": []
  }
 ],
 "metadata": {
  "kernelspec": {
   "display_name": "Python 3",
   "language": "python",
   "name": "python3"
  },
  "language_info": {
   "codemirror_mode": {
    "name": "ipython",
    "version": 3
   },
   "file_extension": ".py",
   "mimetype": "text/x-python",
   "name": "python",
   "nbconvert_exporter": "python",
   "pygments_lexer": "ipython3",
   "version": "3.11.3"
  },
  "orig_nbformat": 4
 },
 "nbformat": 4,
 "nbformat_minor": 2
}
