{
 "cells": [
  {
   "cell_type": "code",
   "execution_count": 7,
   "metadata": {},
   "outputs": [
    {
     "ename": "TypeError",
     "evalue": "'dict' object is not callable",
     "output_type": "error",
     "traceback": [
      "\u001b[0;31m---------------------------------------------------------------------------\u001b[0m",
      "\u001b[0;31mTypeError\u001b[0m                                 Traceback (most recent call last)",
      "\u001b[1;32m/home/jesus/Documents/Clone Vs Code/Python_100_Days-1/Day 09/Exercise 2.ipynb Cell 1\u001b[0m line \u001b[0;36m3\n\u001b[1;32m     <a href='vscode-notebook-cell:/home/jesus/Documents/Clone%20Vs%20Code/Python_100_Days-1/Day%2009/Exercise%202.ipynb#W1sZmlsZQ%3D%3D?line=30'>31</a>\u001b[0m travel_log\u001b[39m.\u001b[39mappend(add_new_country)\n\u001b[1;32m     <a href='vscode-notebook-cell:/home/jesus/Documents/Clone%20Vs%20Code/Python_100_Days-1/Day%2009/Exercise%202.ipynb#W1sZmlsZQ%3D%3D?line=32'>33</a>\u001b[0m \u001b[39m# Do not change the code below 👇\u001b[39;00m\n\u001b[0;32m---> <a href='vscode-notebook-cell:/home/jesus/Documents/Clone%20Vs%20Code/Python_100_Days-1/Day%2009/Exercise%202.ipynb#W1sZmlsZQ%3D%3D?line=33'>34</a>\u001b[0m add_new_country(country, visits, list_of_cities)\n\u001b[1;32m     <a href='vscode-notebook-cell:/home/jesus/Documents/Clone%20Vs%20Code/Python_100_Days-1/Day%2009/Exercise%202.ipynb#W1sZmlsZQ%3D%3D?line=34'>35</a>\u001b[0m \u001b[39mprint\u001b[39m(\u001b[39mf\u001b[39m\u001b[39m\"\u001b[39m\u001b[39mI\u001b[39m\u001b[39m'\u001b[39m\u001b[39mve been to \u001b[39m\u001b[39m{\u001b[39;00mtravel_log[\u001b[39m2\u001b[39m][\u001b[39m'\u001b[39m\u001b[39mcountry\u001b[39m\u001b[39m'\u001b[39m]\u001b[39m}\u001b[39;00m\u001b[39m \u001b[39m\u001b[39m{\u001b[39;00mtravel_log[\u001b[39m2\u001b[39m][\u001b[39m'\u001b[39m\u001b[39mvisits\u001b[39m\u001b[39m'\u001b[39m]\u001b[39m}\u001b[39;00m\u001b[39m times.\u001b[39m\u001b[39m\"\u001b[39m)\n\u001b[1;32m     <a href='vscode-notebook-cell:/home/jesus/Documents/Clone%20Vs%20Code/Python_100_Days-1/Day%2009/Exercise%202.ipynb#W1sZmlsZQ%3D%3D?line=35'>36</a>\u001b[0m \u001b[39mprint\u001b[39m(\u001b[39mf\u001b[39m\u001b[39m\"\u001b[39m\u001b[39mMy favourite city was \u001b[39m\u001b[39m{\u001b[39;00mtravel_log[\u001b[39m2\u001b[39m][\u001b[39m'\u001b[39m\u001b[39mcities\u001b[39m\u001b[39m'\u001b[39m][\u001b[39m0\u001b[39m]\u001b[39m}\u001b[39;00m\u001b[39m.\u001b[39m\u001b[39m\"\u001b[39m)\n",
      "\u001b[0;31mTypeError\u001b[0m: 'dict' object is not callable"
     ]
    }
   ],
   "source": [
    "country = input('Country name') # Add country name\n",
    "visits = int(input('Number of visits')) # Number of visits\n",
    "list_of_cities = eval(input('cities')) # create list from formatted string\n",
    "\n",
    "travel_log = [\n",
    "  {\n",
    "    \"country\": \"France\",\n",
    "    \"visits\": 12,\n",
    "    \"cities\": [\n",
    "      \"Paris\",\n",
    "      \"Lille\",\n",
    "      \"Dijon\"\n",
    "    ]\n",
    "  },\n",
    "  {\n",
    "    \"country\": \"Germany\",\n",
    "    \"visits\": 5,\n",
    "    \"cities\": [\n",
    "      \"Berlin\",\n",
    "      \"Hamburg\",\n",
    "      \"Stuttgart\"\n",
    "    ]\n",
    "  },\n",
    "]\n",
    "# Do NOT change the code above 👆\n",
    "\n",
    "# TODO: Write the function that will allow new countries\n",
    "# to be added to the travel_log. \n",
    "add_new_country = {}\n",
    "add_new_country.update({'country': country,'visits':visits,'list_of_cities': [list_of_cities]})\n",
    "travel_log.append(add_new_country)\n",
    "\n",
    "# Do not change the code below 👇\n",
    "add_new_country(country, visits, list_of_cities)\n",
    "print(f\"I've been to {travel_log[2]['country']} {travel_log[2]['visits']} times.\")\n",
    "print(f\"My favourite city was {travel_log[2]['cities'][0]}.\")"
   ]
  }
 ],
 "metadata": {
  "kernelspec": {
   "display_name": "Python 3",
   "language": "python",
   "name": "python3"
  },
  "language_info": {
   "codemirror_mode": {
    "name": "ipython",
    "version": 3
   },
   "file_extension": ".py",
   "mimetype": "text/x-python",
   "name": "python",
   "nbconvert_exporter": "python",
   "pygments_lexer": "ipython3",
   "version": "3.10.12"
  }
 },
 "nbformat": 4,
 "nbformat_minor": 2
}
