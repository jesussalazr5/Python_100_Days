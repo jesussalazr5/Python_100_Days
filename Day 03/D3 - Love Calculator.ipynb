{
 "cells": [
  {
   "cell_type": "code",
   "execution_count": 4,
   "metadata": {},
   "outputs": [
    {
     "name": "stdout",
     "output_type": "stream",
     "text": [
      "Welcome to the Love Calculator!\n",
      "Your score is 42, you are alright together.\n"
     ]
    }
   ],
   "source": [
    "print(\"Welcome to the Love Calculator!\")\n",
    "name1 = input(\"What is your name? \\n\").lower()\n",
    "name2 = input(\"What is their name? \\n\").lower()\n",
    "\n",
    "names = name1 + name2\n",
    "\n",
    "t = (names.count('t'))\n",
    "r = (names.count('r'))\n",
    "u = (names.count('u'))\n",
    "e = (names.count('e'))\n",
    "\n",
    "l = (names.count('l'))\n",
    "o = (names.count('o'))\n",
    "v = (names.count('v'))\n",
    "e = (names.count('e'))\n",
    "\n",
    "score_true = t + r + u + e\n",
    "score_love = l + o + v + e\n",
    "\n",
    "score = int(str(score_true)+str(score_love))\n",
    "\n",
    "\n",
    "if score >= 10 and score <= 90:\n",
    "    if score >= 40 and score <= 50:\n",
    "        print(f\"Your score is {score}, you are alright together.\")\n",
    "    else:\n",
    "        print(f\"Your score is {score}.\")\n",
    "else:          \n",
    "    print(f\"Your score is {score}, you go together like coke and mentos.\")\n",
    "\n"
   ]
  }
 ],
 "metadata": {
  "kernelspec": {
   "display_name": "Python 3",
   "language": "python",
   "name": "python3"
  },
  "language_info": {
   "codemirror_mode": {
    "name": "ipython",
    "version": 3
   },
   "file_extension": ".py",
   "mimetype": "text/x-python",
   "name": "python",
   "nbconvert_exporter": "python",
   "pygments_lexer": "ipython3",
   "version": "3.11.4"
  },
  "orig_nbformat": 4
 },
 "nbformat": 4,
 "nbformat_minor": 2
}
