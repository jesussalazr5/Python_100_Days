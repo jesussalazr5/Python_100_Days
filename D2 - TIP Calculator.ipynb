{
 "cells": [
  {
   "cell_type": "code",
   "execution_count": 10,
   "metadata": {},
   "outputs": [
    {
     "name": "stdout",
     "output_type": "stream",
     "text": [
      "Welcome to the tip calculator.\n",
      "Each person should pay: $ 33.60\n"
     ]
    }
   ],
   "source": [
    "print('Welcome to the tip calculator.')\n",
    "\n",
    "bill = float(input('What was the total bill? $'))\n",
    "tip = int(input('What percentage tip would you like to give? 10, 12, or 15? '))\n",
    "people = int(input('How many people to split the bill? '))\n",
    "\n",
    "tip_percentage = tip / 100\n",
    "\n",
    "result = bill * (1+tip_percentage) / people\n",
    "\n",
    "print(f'Each person should pay: $ {result:.2f}')\n"
   ]
  },
  {
   "cell_type": "code",
   "execution_count": null,
   "metadata": {},
   "outputs": [],
   "source": []
  }
 ],
 "metadata": {
  "kernelspec": {
   "display_name": "Python 3",
   "language": "python",
   "name": "python3"
  },
  "language_info": {
   "codemirror_mode": {
    "name": "ipython",
    "version": 3
   },
   "file_extension": ".py",
   "mimetype": "text/x-python",
   "name": "python",
   "nbconvert_exporter": "python",
   "pygments_lexer": "ipython3",
   "version": "3.11.3"
  },
  "orig_nbformat": 4
 },
 "nbformat": 4,
 "nbformat_minor": 2
}
