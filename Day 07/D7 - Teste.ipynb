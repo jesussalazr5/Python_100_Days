{
 "cells": [
  {
   "cell_type": "code",
   "execution_count": 13,
   "metadata": {},
   "outputs": [
    {
     "name": "stdout",
     "output_type": "stream",
     "text": [
      "['João Silva', 'Maria Santos', 'Pedro Ferreira']\n"
     ]
    }
   ],
   "source": [
    "pessoas = {\n",
    "    'pessoa1': {\n",
    "        'nome': 'João',\n",
    "        'sobrenome': 'Silva'\n",
    "    },\n",
    "    'pessoa2': {\n",
    "        'nome': 'Maria',\n",
    "        'sobrenome': 'Santos'\n",
    "    },\n",
    "    'pessoa3': {\n",
    "        'nome': 'Pedro',\n",
    "        'sobrenome': 'Ferreira'\n",
    "    }\n",
    "}\n",
    "lista_nomes = []\n",
    "\n",
    "for pessoa, dados in pessoas.items():\n",
    "    nome_completo = f\"{dados['nome']} {dados['sobrenome']}\"\n",
    "    lista_nomes.append(nome_completo)\n",
    "\n",
    "print(lista_nomes)"
   ]
  }
 ],
 "metadata": {
  "kernelspec": {
   "display_name": "Python 3",
   "language": "python",
   "name": "python3"
  },
  "language_info": {
   "codemirror_mode": {
    "name": "ipython",
    "version": 3
   },
   "file_extension": ".py",
   "mimetype": "text/x-python",
   "name": "python",
   "nbconvert_exporter": "python",
   "pygments_lexer": "ipython3",
   "version": "3.11.5"
  },
  "orig_nbformat": 4
 },
 "nbformat": 4,
 "nbformat_minor": 2
}
