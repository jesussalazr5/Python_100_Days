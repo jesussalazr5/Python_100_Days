{
 "cells": [
  {
   "cell_type": "code",
   "execution_count": 65,
   "metadata": {},
   "outputs": [
    {
     "name": "stdout",
     "output_type": "stream",
     "text": [
      "['⬜️', '️⬜️', '️⬜️']\n",
      "['⬜️', '️⬜️', '️⬜️']\n",
      "['⬜️', '️⬜️', '️⬜️']\n",
      "\n",
      "['⬜️', '️⬜️', '️⬜️']\n",
      "['⬜️', '️⬜️', '️⬜️']\n",
      "['⬜️', ' X ', '️⬜️']\n"
     ]
    }
   ],
   "source": [
    "row_1 = [\"⬜️\",\"️⬜️\",\"️⬜️\"]\n",
    "row_2 = [\"⬜️\",\"️⬜️\",\"️⬜️\"]\n",
    "row_3 = [\"⬜️\",\"️⬜️\",\"️⬜️\"]\n",
    "\n",
    "map = [row_1, row_2, row_3]\n",
    "print(f'{row_1}\\n{row_2}\\n{row_3}')\n",
    "\n",
    "position = input('Where do you want to put the treasure?') #Donde quer colocar o tesouro\n",
    "\n",
    "map[int(position[1])-1][int(position[0])-1] = ' X '\n",
    "\n",
    "print(f'\\n{row_1}\\n{row_2}\\n{row_3}')\n",
    "\n",
    "\n",
    "#map[int(position[1])][int(position[0])]\n",
    "#print(f'{row_1}\\n{row_2}\\n{row_3}')\n",
    "\n",
    "\n",
    "\n",
    "\n"
   ]
  },
  {
   "cell_type": "code",
   "execution_count": null,
   "metadata": {},
   "outputs": [],
   "source": []
  },
  {
   "cell_type": "code",
   "execution_count": null,
   "metadata": {},
   "outputs": [],
   "source": []
  }
 ],
 "metadata": {
  "kernelspec": {
   "display_name": "Python 3",
   "language": "python",
   "name": "python3"
  },
  "language_info": {
   "codemirror_mode": {
    "name": "ipython",
    "version": 3
   },
   "file_extension": ".py",
   "mimetype": "text/x-python",
   "name": "python",
   "nbconvert_exporter": "python",
   "pygments_lexer": "ipython3",
   "version": "3.11.4"
  },
  "orig_nbformat": 4
 },
 "nbformat": 4,
 "nbformat_minor": 2
}
